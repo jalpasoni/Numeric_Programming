{
 "cells": [
  {
   "cell_type": "markdown",
   "metadata": {},
   "source": [
    "# _Tasca 4, Sprint 3_ *Numeric Programming* "
   ]
  },
  {
   "cell_type": "code",
   "execution_count": 1,
   "metadata": {},
   "outputs": [],
   "source": [
    "import numpy as np\n",
    "from numpy import random"
   ]
  },
  {
   "cell_type": "markdown",
   "metadata": {
    "ExecuteTime": {
     "end_time": "2021-01-12T14:58:51.684805Z",
     "start_time": "2021-01-12T14:58:51.681499Z"
    }
   },
   "source": [
    "## Exercise 1\n",
    "\n",
    "Create a function that, given an array of one dimension, gives you a basic statistical summary of the data. If it detects that the array has more than one dimension, it should display an error message.\n",
    "\n",
    "**Solution:**\n",
    "\n",
    "The following steps are taken for this exercise:\n",
    "    \n",
    "    1. Creating arrays of different dimensions using \"random\" from \"numpy\".\n",
    "    2. A function called \"stat_summary\" is created with an array as an input.\n",
    "    3. This functions checks the dimension of the array, and returns an error message if it is not a one dimensional array. \n",
    "    4. If the functions detects a one-dimensional array, then it will go on to print basic statistical analysis of the data, which includes: \n",
    "                             data-type\n",
    "                             Range\n",
    "                             Minimum value\n",
    "                             Maximum value\n",
    "                             Weighted Average\n",
    "                             Arithmetic Mean\n",
    "                             Median\n",
    "                             Standard deviation\n",
    "                             Variance\n",
    "                             Correlation coefficient\n"
   ]
  },
  {
   "cell_type": "code",
   "execution_count": 2,
   "metadata": {},
   "outputs": [
    {
     "name": "stdout",
     "output_type": "stream",
     "text": [
      "Error 2020: More than can be handeled, the dimension I mean!\n",
      "\n",
      "\n",
      "Basic statisctical summary of the data: \n",
      "Data =  [36 40 68 48 41 41 17 91 24 76 30 70 57 66 75 64 14 70 50 36] | data-type: int64\n",
      "Range: 77\n",
      "Minimum value: 14\n",
      "Maximum value: 91\n",
      "Weighted average: 50.7\n",
      "Arithmetic Mean: 50.7\n",
      "Median: 49.0\n",
      "Standard deviation: 20.8761\n",
      "Variance: 435.8100\n",
      "Correlation coef.:  1.0\n",
      "\n",
      "\n",
      "\n",
      "\n",
      "Basic statisctical summary of the data: \n",
      "Data =  [78 89 14 10 35] | data-type: int64\n",
      "Range: 79\n",
      "Minimum value: 10\n",
      "Maximum value: 89\n",
      "Weighted average: 45.2\n",
      "Arithmetic Mean: 45.2\n",
      "Median: 35.0\n",
      "Standard deviation: 32.5908\n",
      "Variance: 1062.1600\n",
      "Correlation coef.:  1.0\n",
      "\n",
      "\n",
      "Error 2020: More than can be handeled, the dimension I mean!\n"
     ]
    }
   ],
   "source": [
    "# creating four arrays of different dimensions using random numbers of range (1, 100)\n",
    "ar1 = random.randint(100, size=(2, 3))\n",
    "ar2 = random.randint(100, size=(20))\n",
    "ar3 = random.randint(100, size=(5))\n",
    "ar4 = random.randint(100, size=(3, 6))\n",
    "\n",
    "def stat_summary(array):\n",
    "    try:\n",
    "        assert(array.ndim == 1), \"Error 2020: More than can be handeled, the dimension I mean!\"\n",
    "        print('\\n')\n",
    "        print('Basic statisctical summary of the data: ')\n",
    "        print('Data = ', array, '| data-type:', array.dtype)\n",
    "        print('Range:', np.ptp(array))\n",
    "        print('Minimum value:', np.min(array))        \n",
    "        print('Maximum value:', np.max(array)) \n",
    "        print('Weighted average:', np.average(array))\n",
    "        print('Arithmetic Mean:', np.mean(array))\n",
    "        print('Median:', np.median(array))\n",
    "        print('Standard deviation: {:.4f}'.format(np.std(array))) \n",
    "        print('Variance: {:.4f}'.format(np.var(array)))        \n",
    "        print('Correlation coef.: ', (np.corrcoef(array))) \n",
    "        print('\\n')\n",
    "    except AssertionError as msg:  \n",
    "        print(msg) \n",
    "\n",
    "stat_summary(ar1)\n",
    "stat_summary(ar2)\n",
    "stat_summary(ar3)\n",
    "stat_summary(ar4)"
   ]
  },
  {
   "cell_type": "markdown",
   "metadata": {},
   "source": [
    "## Exercise 2\n",
    "\n",
    "Create a function that generates an NxN square of random numbers between 0 and 100.\n",
    "\n",
    "**Solution:**\n",
    "\n",
    "To achieve this, the following steps are taken.\n",
    "\n",
    "    1. The function created for this exercise is called \"generate_square\". \n",
    "    2. Inside, I use the in-built 'random.randint' function of numpy library. With this, you can specify the range of random numbers to be used (100 in our case) and the size of the matrix/array to be created. \n",
    "    3. I am using a user-input prompt to enter an integer value, pass it to the random number generator, and then   print the generated NxN square. \n"
   ]
  },
  {
   "cell_type": "code",
   "execution_count": 3,
   "metadata": {},
   "outputs": [
    {
     "name": "stdout",
     "output_type": "stream",
     "text": [
      "What size of square do you want? 7\n",
      "A 7x7 square of randome numbers between 0 and 100 is: \n",
      "[[34 75 55  0 48 11 77]\n",
      " [25 65 51  4 51 71 87]\n",
      " [43 72  5  0 67 23 67]\n",
      " [95 11 15 37 39  7 66]\n",
      " [66 33 26 30 12  5 90]\n",
      " [72 56 93 96  8  0 97]\n",
      " [80 36 10  7 99 57 46]]\n"
     ]
    }
   ],
   "source": [
    "def generate_square():        \n",
    "    n = int(input(\"What size of square do you want? \"))\n",
    "    square = random.randint(100, size=(n, n))\n",
    "    print('A ' + str(n) + 'x' + str(n) + ' square of randome numbers between 0 and 100 is: ')\n",
    "    print(square)\n",
    "    \n",
    "generate_square()"
   ]
  },
  {
   "cell_type": "markdown",
   "metadata": {},
   "source": [
    "## Exercise 3\n",
    "\n",
    "Create a function that given a two-dimensional table, calculates the totals per row and the totals per column.\n",
    "\n",
    "**Solution:**\n",
    "\n",
    "    1. The function created is called \"total_row_column\", which takes a table as an input. \n",
    "    2. Inside, I am using in-built functios of numpy library to calculate the sums over rows and column. \n",
    "    3. In numpy arrays, axis 1 refers to the rows and axis 2 refers to the columns. \n",
    "    4. The total sums per row and column are then printed in an array each for as many rows and columns present in the table. For example, if there are 4 rows and 8 columns, then the total for rows will have 4 elements and      total for columns will have 8 elements in the output. \n",
    "    5. The test table for the created function is generated by using 'random.randint' function. I have used random numbers from 0 to 10, just to make it easier to check the sums.\n",
    "    6. The function \"total_row_column\" works for any two-dimensional table."
   ]
  },
  {
   "cell_type": "code",
   "execution_count": 4,
   "metadata": {},
   "outputs": [
    {
     "name": "stdout",
     "output_type": "stream",
     "text": [
      "A two-dimensional table of size 9x3 is: \n",
      "[[7 8 3]\n",
      " [7 1 4]\n",
      " [5 0 6]\n",
      " [1 7 7]\n",
      " [6 0 4]\n",
      " [7 6 2]\n",
      " [1 0 7]\n",
      " [3 4 7]\n",
      " [9 4 6]]\n",
      "\n",
      "\n",
      "Total per 9 rows: [18 12 11 15 10 15  8 14 19]\n",
      "\n",
      "\n",
      "Total per 3 columns: [46 30 46]\n"
     ]
    }
   ],
   "source": [
    "def total_row_column(table):        \n",
    "    #table = random.randint(lim, size=(r, c))\n",
    "    (r, c) = table.shape\n",
    "    print('A two-dimensional table of size ' + str(r) + 'x' + str(c) + ' is: ')\n",
    "    print(table)\n",
    "    print('\\n')\n",
    "    print('Total per ' + str(r) + ' rows:', table.sum(axis = 1))\n",
    "    print('\\n')\n",
    "    print('Total per ' + str(c) + ' columns:', table.sum(axis = 0))\n",
    "\n",
    "lim = 10 # range for random number generator, I kept 10 to make it easy to verify the sums of rows and column\n",
    "r = 9 # number of rows\n",
    "c = 3 # number of columns\n",
    "table = random.randint(lim, size=(r, c))\n",
    "\n",
    "total_row_column(table)"
   ]
  },
  {
   "cell_type": "markdown",
   "metadata": {},
   "source": [
    "##  Exercise 4\n",
    "\n",
    "Manually implements a function that calculates the correlation coefficient. Learn about its uses and interpretation.\n",
    "\n",
    "**Solution:**\n",
    "\n",
    "To achieve this, the following steps are taken: \n",
    "\n",
    "    1. The function created to calculate the correlation coefficient is called \"corr_coeff\", which takes two datsets as inputs. \n",
    "    2. First, the two datasets are stacked together to form a matrix. \n",
    "    3. Second, the covariance is calculated as the average of the product between the values from each dataset, where the values haven been centered (i.e., had their mean subtracted). Note that, the use of the mean indicates that the dataset should have a Gaussian or Gaussian-like distribution. Zero covariance means that the two datasets/variables are completely independent, and the sign of the covariance can indicate whether the two change in the same direction (positive) or in different directions (negative). There is an in-built function called cov() in numpy that does the same calculation. I used it to check if my calculations are correct and the values are close to second decimal. \n",
    "    4. Finally, the correlation co-efficient is calculated as the covariance divided by the product of the standard deviation of each dataset. This gives us what is called \"The Pearson correlation coefficient\", which is the one used for in-built function corrcoef of numpy.\n",
    "    5. At the end of the function \"corr_coeff\", the correlation coefficient, manually calculated and that with the in-built function are both printed upto four decimals. \n",
    "    6. To demonstrate the use of the function, I use two datasets generated with random numbers from numpy as: \n",
    "            data 1 = Random numbers with Gaussian distribution with a mean of 100 and a standard deviation of 20\n",
    "            data 2 = Gaussian noise added with a mean of a 50 and a standard deviation of 10 to data 1\n",
    "    7. These two datasets are given to the function \"corr_coeff\" and the two correlation coefficients (manual and with in-built from numpy) are printed to four decimals. "
   ]
  },
  {
   "cell_type": "code",
   "execution_count": 5,
   "metadata": {},
   "outputs": [
    {
     "name": "stdout",
     "output_type": "stream",
     "text": [
      "Correlation coefficient = 0.9012\n",
      "With in-built function = 0.9003\n"
     ]
    }
   ],
   "source": [
    "from numpy import random\n",
    "from numpy.random import randn\n",
    "from numpy.random import seed\n",
    "from numpy import cov\n",
    "import numpy as np\n",
    "\n",
    "def corr_coeff(d1, d2):\n",
    "    n = d1.size\n",
    "    # calculate covariance\n",
    "    x = np.column_stack([d1, d2])\n",
    "    x = x - x.mean(axis = 0) \n",
    "    covar = np.dot(x.T, x.conj()) / (n - 1)\n",
    "    #print('Covariance is {:.2f}'.format(covar[0][1]))\n",
    "\n",
    "    # correlation coefficient from covariance\n",
    "    corr = covar[0][1] / (np.std(d1) * np.std(d2))\n",
    "    print('Correlation coefficient = {:.4f}'.format(corr))\n",
    "    print('With in-built function = {:.4f}'.format(np.corrcoef(d1, d2)[0][1]))\n",
    "    return corr\n",
    "\n",
    "# Generating data \n",
    "N = 1000\n",
    "#seed(130)\n",
    "data1 = 20 * randn(N) + 100\n",
    "data2 = data1 + (10 * randn(N) + 50)\n",
    "\n",
    "corr = corr_coeff(data1, data2)    \n",
    "#print(corr)"
   ]
  },
  {
   "cell_type": "markdown",
   "metadata": {},
   "source": [
    "Notice that, for the datasets that I have generated are with Gaussian distribution and are separated by a Gaussian noise. In this case, the two datasets are expected to be highly correlated positively, and the correlation coefficient evidently has a high value (0.89). \n",
    "\n",
    "Next, I generate two datasets with 1000 random numbers using *randint* of size 10000 with random values between 0 and 100. These two datasets are completely random, and the correlation coefficient shows the value close to 0, indicating that the two are, indeed, independent of each other. "
   ]
  },
  {
   "cell_type": "code",
   "execution_count": 6,
   "metadata": {},
   "outputs": [
    {
     "name": "stdout",
     "output_type": "stream",
     "text": [
      "Correlation coefficient = 0.0513\n",
      "With in-built function = 0.0512\n"
     ]
    }
   ],
   "source": [
    "# checking the function with two datasets of 10000 random numbers, unseeded. \n",
    "a1 = random.randint(100, size=(1000))\n",
    "a2 = random.randint(100, size=(1000))\n",
    "corr = corr_coeff(a1, a2)   "
   ]
  },
  {
   "cell_type": "markdown",
   "metadata": {},
   "source": [
    "**Notes:**\n",
    "\n",
    "An important thing to remember that, the this correlation coefficient is a measure of the **linear relationship** between two random variables. This is important because the built-in function *corrcoef* of numpy calculates the Pearson correlation coefficient, and getting the value of it to be zero is sometimes misinterpreted as the two datasets not being correlated at all. The distinction to be made is that the two datasets (or variables or data samples) are *not linearly related* but can have non-linear dependency between them.  "
   ]
  }
 ],
 "metadata": {
  "kernelspec": {
   "display_name": "Python 3",
   "language": "python",
   "name": "python3"
  },
  "language_info": {
   "codemirror_mode": {
    "name": "ipython",
    "version": 3
   },
   "file_extension": ".py",
   "mimetype": "text/x-python",
   "name": "python",
   "nbconvert_exporter": "python",
   "pygments_lexer": "ipython3",
   "version": "3.6.5"
  },
  "latex_envs": {
   "LaTeX_envs_menu_present": true,
   "autoclose": false,
   "autocomplete": true,
   "bibliofile": "biblio.bib",
   "cite_by": "apalike",
   "current_citInitial": 1,
   "eqLabelWithNumbers": true,
   "eqNumInitial": 1,
   "hotkeys": {
    "equation": "Ctrl-E",
    "itemize": "Ctrl-I"
   },
   "labels_anchors": false,
   "latex_user_defs": false,
   "report_style_numbering": false,
   "user_envs_cfg": false
  },
  "nbTranslate": {
   "displayLangs": [
    "*"
   ],
   "hotkey": "alt-t",
   "langInMainMenu": true,
   "sourceLang": "en",
   "targetLang": "fr",
   "useGoogleTranslate": true
  },
  "toc": {
   "base_numbering": "1",
   "nav_menu": {},
   "number_sections": true,
   "sideBar": true,
   "skip_h1_title": true,
   "title_cell": "Table of Contents",
   "title_sidebar": "Contents",
   "toc_cell": false,
   "toc_position": {
    "height": "calc(100% - 180px)",
    "left": "10px",
    "top": "150px",
    "width": "165px"
   },
   "toc_section_display": true,
   "toc_window_display": true
  },
  "varInspector": {
   "cols": {
    "lenName": 16,
    "lenType": 16,
    "lenVar": 40
   },
   "kernels_config": {
    "python": {
     "delete_cmd_postfix": "",
     "delete_cmd_prefix": "del ",
     "library": "var_list.py",
     "varRefreshCmd": "print(var_dic_list())"
    },
    "r": {
     "delete_cmd_postfix": ") ",
     "delete_cmd_prefix": "rm(",
     "library": "var_list.r",
     "varRefreshCmd": "cat(var_dic_list()) "
    }
   },
   "types_to_exclude": [
    "module",
    "function",
    "builtin_function_or_method",
    "instance",
    "_Feature"
   ],
   "window_display": false
  }
 },
 "nbformat": 4,
 "nbformat_minor": 2
}
